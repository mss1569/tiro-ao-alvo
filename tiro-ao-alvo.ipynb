{
 "cells": [
  {
   "cell_type": "code",
   "execution_count": 1,
   "metadata": {
    "execution": {
     "iopub.execute_input": "2020-11-20T19:19:23.486912Z",
     "iopub.status.busy": "2020-11-20T19:19:23.486064Z",
     "iopub.status.idle": "2020-11-20T19:19:23.489593Z",
     "shell.execute_reply": "2020-11-20T19:19:23.488816Z"
    },
    "papermill": {
     "duration": 0.01746,
     "end_time": "2020-11-20T19:19:23.489722",
     "exception": false,
     "start_time": "2020-11-20T19:19:23.472262",
     "status": "completed"
    },
    "tags": []
   },
   "outputs": [],
   "source": [
    "import random"
   ]
  },
  {
   "attachments": {
    "image.png": {
     "image/png": "[encoded data removed]"
    }
   },
   "cell_type": "markdown",
   "metadata": {
    "papermill": {
     "duration": 0.007126,
     "end_time": "2020-11-20T19:19:23.506761",
     "exception": false,
     "start_time": "2020-11-20T19:19:23.499635",
     "status": "completed"
    },
    "tags": []
   },
   "source": [
    "![image.png](attachment:image.png)\n",
    "<p>O ambiente é composto por um campo com 10 alvos dispostos a cada 10º de um campo de visão de 90º</p>\n",
    "<p>O agente é atirador</p>\n",
    "<p>O sensor é o olho do atirador</p>\n",
    "<p>O atuador é o arco e flecha</p>\n",
    "<p>No inicio da rodada um dos alvos é definido como premiado e o objetivo do agente é acerta-lo</p>"
   ]
  },
  {
   "cell_type": "code",
   "execution_count": 2,
   "metadata": {
    "execution": {
     "iopub.execute_input": "2020-11-20T19:19:23.532727Z",
     "iopub.status.busy": "2020-11-20T19:19:23.531894Z",
     "iopub.status.idle": "2020-11-20T19:19:23.535211Z",
     "shell.execute_reply": "2020-11-20T19:19:23.534461Z"
    },
    "papermill": {
     "duration": 0.021065,
     "end_time": "2020-11-20T19:19:23.535337",
     "exception": false,
     "start_time": "2020-11-20T19:19:23.514272",
     "status": "completed"
    },
    "tags": []
   },
   "outputs": [],
   "source": [
    "class Env:\n",
    "    def __init__(self):\n",
    "        self.targets = [i for i in range(0,100,10)]\n",
    "        self.reset()\n",
    "        \n",
    "    # atualiza o estado de acordo com a ação\n",
    "    def step(self, action):\n",
    "        self.last_target = action\n",
    "        print(f'Env: o alvo {action} foi atingido')\n",
    "        return action == self.target\n",
    "        \n",
    "    # retorna um alvo aleatorio\n",
    "    def get_random_target(self):\n",
    "        return random.randint(0,len(self.targets))\n",
    "    \n",
    "    # restaura o estado inicial do ambiente\n",
    "    def reset(self):\n",
    "        # escolhe um dos alvos para ser o objetivo\n",
    "        self.target = random.randint(0,len(self.targets))\n",
    "        print(f'Env: o alvo premiado é o {self.target}')\n",
    "        self.last_target = None"
   ]
  },
  {
   "cell_type": "code",
   "execution_count": 3,
   "metadata": {
    "_cell_guid": "b1076dfc-b9ad-4769-8c92-a6c4dae69d19",
    "_uuid": "8f2839f25d086af736a60e9eeb907d3b93b6e0e5",
    "execution": {
     "iopub.execute_input": "2020-11-20T19:19:23.562208Z",
     "iopub.status.busy": "2020-11-20T19:19:23.561097Z",
     "iopub.status.idle": "2020-11-20T19:19:23.564572Z",
     "shell.execute_reply": "2020-11-20T19:19:23.563775Z"
    },
    "papermill": {
     "duration": 0.021432,
     "end_time": "2020-11-20T19:19:23.564703",
     "exception": false,
     "start_time": "2020-11-20T19:19:23.543271",
     "status": "completed"
    },
    "tags": []
   },
   "outputs": [],
   "source": [
    "class Agent:\n",
    "    def __init__(self, env):\n",
    "        self.env = env\n",
    "        \n",
    "    def calc_new_target(self, reward):\n",
    "        reward = 'esquerda' if reward > 0 else 'direita'\n",
    "        direction = -1 if reward == 'direita' else 1\n",
    "        \n",
    "        print(f'Agent: o angulo foi ajustado para a {reward}')\n",
    "        return self.env.last_target + direction\n",
    "        \n",
    "    # baseado no conhecimento do agente, retorna qual ação devera ser tomada no estado atual\n",
    "    def chose(self, reward=None):\n",
    "        new_target = self.env.get_random_target()\n",
    "        if self.env.last_target is not None: # caso não seja o primeiro tiro\n",
    "            new_target = self.calc_new_target(reward)\n",
    "        \n",
    "        print(f'Agent: o alvo escolhido foi o {new_target}')\n",
    "        return new_target"
   ]
  },
  {
   "cell_type": "code",
   "execution_count": 4,
   "metadata": {
    "execution": {
     "iopub.execute_input": "2020-11-20T19:19:23.588110Z",
     "iopub.status.busy": "2020-11-20T19:19:23.586892Z",
     "iopub.status.idle": "2020-11-20T19:19:23.590108Z",
     "shell.execute_reply": "2020-11-20T19:19:23.589314Z"
    },
    "papermill": {
     "duration": 0.017667,
     "end_time": "2020-11-20T19:19:23.590286",
     "exception": false,
     "start_time": "2020-11-20T19:19:23.572619",
     "status": "completed"
    },
    "tags": []
   },
   "outputs": [],
   "source": [
    "class Actuator:\n",
    "    def __init__(self,env):\n",
    "        self.env = env\n",
    "    \n",
    "    # executa a ação\n",
    "    # true = alvo certo\n",
    "    # false = alvo errado\n",
    "    def act(self, action):\n",
    "        print(f'Actuator: disparando no alvo {action}')\n",
    "        return self.env.step(action)"
   ]
  },
  {
   "cell_type": "code",
   "execution_count": 5,
   "metadata": {
    "execution": {
     "iopub.execute_input": "2020-11-20T19:19:23.615302Z",
     "iopub.status.busy": "2020-11-20T19:19:23.614383Z",
     "iopub.status.idle": "2020-11-20T19:19:23.617072Z",
     "shell.execute_reply": "2020-11-20T19:19:23.617645Z"
    },
    "papermill": {
     "duration": 0.019089,
     "end_time": "2020-11-20T19:19:23.617807",
     "exception": false,
     "start_time": "2020-11-20T19:19:23.598718",
     "status": "completed"
    },
    "tags": []
   },
   "outputs": [],
   "source": [
    "class Sensor:\n",
    "    def __init__(self,env):\n",
    "        self.env = env\n",
    "    \n",
    "    # calcula a recompensa da ação no estado atual\n",
    "    def calc_reward(self):\n",
    "        reward = self.env.target - self.env.last_target\n",
    "        print(f'Sensor: recompensa pelo disparo = {reward}')\n",
    "        return reward"
   ]
  },
  {
   "cell_type": "code",
   "execution_count": 6,
   "metadata": {
    "_cell_guid": "79c7e3d0-c299-4dcb-8224-4455121ee9b0",
    "_uuid": "d629ff2d2480ee46fbb7e2d37f6b5fab8052498a",
    "execution": {
     "iopub.execute_input": "2020-11-20T19:19:23.644856Z",
     "iopub.status.busy": "2020-11-20T19:19:23.643957Z",
     "iopub.status.idle": "2020-11-20T19:19:23.648996Z",
     "shell.execute_reply": "2020-11-20T19:19:23.648153Z"
    },
    "papermill": {
     "duration": 0.023,
     "end_time": "2020-11-20T19:19:23.649167",
     "exception": false,
     "start_time": "2020-11-20T19:19:23.626167",
     "status": "completed"
    },
    "tags": []
   },
   "outputs": [
    {
     "name": "stdout",
     "output_type": "stream",
     "text": [
      "Env: o alvo premiado é o 7\n",
      "Agent: o alvo escolhido foi o 3\n",
      "Actuator: disparando no alvo 3\n",
      "Env: o alvo 3 foi atingido\n",
      "Sensor: recompensa pelo disparo = 4\n",
      "Agent: o angulo foi ajustado para a esquerda\n",
      "Agent: o alvo escolhido foi o 4\n",
      "Actuator: disparando no alvo 4\n",
      "Env: o alvo 4 foi atingido\n",
      "Sensor: recompensa pelo disparo = 3\n",
      "Agent: o angulo foi ajustado para a esquerda\n",
      "Agent: o alvo escolhido foi o 5\n",
      "Actuator: disparando no alvo 5\n",
      "Env: o alvo 5 foi atingido\n",
      "Sensor: recompensa pelo disparo = 2\n",
      "Agent: o angulo foi ajustado para a esquerda\n",
      "Agent: o alvo escolhido foi o 6\n",
      "Actuator: disparando no alvo 6\n",
      "Env: o alvo 6 foi atingido\n",
      "Sensor: recompensa pelo disparo = 1\n",
      "Agent: o angulo foi ajustado para a esquerda\n",
      "Agent: o alvo escolhido foi o 7\n",
      "Actuator: disparando no alvo 7\n",
      "Env: o alvo 7 foi atingido\n",
      "O alvo premiado foi atingido!\n"
     ]
    }
   ],
   "source": [
    "env = Env()\n",
    "agent = Agent(env)\n",
    "actuator = Actuator(env)\n",
    "sensor = Sensor(env)\n",
    "\n",
    "target = agent.chose()\n",
    "is_end = actuator.act(target)\n",
    "while not is_end:\n",
    "    reward = sensor.calc_reward()\n",
    "    target = agent.chose(reward)\n",
    "    is_end = actuator.act(target)\n",
    "print('O alvo premiado foi atingido!')    "
   ]
  }
 ],
 "metadata": {
  "kernelspec": {
   "display_name": "Python 3",
   "language": "python",
   "name": "python3"
  },
  "language_info": {
   "codemirror_mode": {
    "name": "ipython",
    "version": 3
   },
   "file_extension": ".py",
   "mimetype": "text/x-python",
   "name": "python",
   "nbconvert_exporter": "python",
   "pygments_lexer": "ipython3",
   "version": "3.7.6"
  },
  "papermill": {
   "duration": 5.702549,
   "end_time": "2020-11-20T19:19:23.766676",
   "environment_variables": {},
   "exception": null,
   "input_path": "__notebook__.ipynb",
   "output_path": "__notebook__.ipynb",
   "parameters": {},
   "start_time": "2020-11-20T19:19:18.064127",
   "version": "2.1.0"
  }
 },
 "nbformat": 4,
 "nbformat_minor": 4
}
